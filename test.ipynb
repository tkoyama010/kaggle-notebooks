{
 "cells": [
  {
   "cell_type": "markdown",
   "id": "e4a0165c",
   "metadata": {},
   "source": [
    "# Jupytextの動作確認\n",
    "\n",
    "このノートはJupytextの動作確認を行うために作成したものです。"
   ]
  },
  {
   "cell_type": "code",
   "execution_count": null,
   "id": "66ee93f7",
   "metadata": {},
   "outputs": [],
   "source": [
    "import numpy as np"
   ]
  },
  {
   "cell_type": "code",
   "execution_count": null,
   "id": "6d533c7c",
   "metadata": {},
   "outputs": [],
   "source": [
    "a = np.arange(10)\n",
    "b = np.arange(10)\n",
    "c = np.arange(10)\n",
    "d = np.arange(10)"
   ]
  },
  {
   "cell_type": "code",
   "execution_count": null,
   "id": "e338f325",
   "metadata": {},
   "outputs": [],
   "source": [
    "e = [1, 2, 3]"
   ]
  },
  {
   "cell_type": "code",
   "execution_count": null,
   "id": "df5ef6ad",
   "metadata": {},
   "outputs": [],
   "source": [
    "f = [1, 2, 3]"
   ]
  }
 ],
 "metadata": {
  "jupytext": {
   "cell_metadata_filter": "-all",
   "formats": "md:myst,ipynb",
   "main_language": "python"
  }
 },
 "nbformat": 4,
 "nbformat_minor": 5
}
