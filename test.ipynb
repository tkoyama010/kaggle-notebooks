{
 "cells": [
  {
   "cell_type": "markdown",
   "id": "e4a0165c",
   "metadata": {},
   "source": [
    "# Jupytextの動作確認\n",
    "\n",
    "このノートはJupytextの動作確認を行うために作成したものです。"
   ]
  },
  {
   "cell_type": "code",
   "execution_count": null,
   "id": "66ee93f7",
   "metadata": {},
   "outputs": [],
   "source": [
    "print(\"Hello World!\")"
   ]
  }
 ],
 "metadata": {
  "jupytext": {
   "cell_metadata_filter": "-all",
   "formats": "md:myst,ipynb",
   "main_language": "python"
  }
 },
 "nbformat": 4,
 "nbformat_minor": 5
}
