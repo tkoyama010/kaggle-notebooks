{
 "cells": [
  {
   "cell_type": "markdown",
   "id": "34ef1fb6",
   "metadata": {},
   "source": [
    "# タイタニック号 災害から学ぶ機械学習\n",
    "\n",
    "## データの取得\n",
    "\n",
    "Titanicのデータを取得します。"
   ]
  },
  {
   "cell_type": "code",
   "execution_count": null,
   "id": "e9145df7",
   "metadata": {},
   "outputs": [],
   "source": [
    "!kaggle competitions download -c titanic --quiet"
   ]
  },
  {
   "cell_type": "markdown",
   "id": "ea69f887",
   "metadata": {},
   "source": [
    "ダウンロードの際には`kaggle.json`ファイルを `~/.kaggle/kaggle.json` に配置しておく必要があります。\n",
    "`titanic.zip`ファイルがダウンロードされますのでカレントディレクトリに展開します。"
   ]
  }
 ],
 "metadata": {
  "jupytext": {
   "cell_metadata_filter": "-all",
   "formats": "py:percent,ipynb",
   "main_language": "python"
  }
 },
 "nbformat": 4,
 "nbformat_minor": 5
}
