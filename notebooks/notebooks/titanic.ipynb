{
 "cells": [
  {
   "cell_type": "markdown",
   "id": "34ef1fb6",
   "metadata": {},
   "source": [
    "# タイタニック号 災害から学ぶ機械学習\n",
    "\n",
    "## データの取得\n",
    "\n",
    "Titanicのデータを取得します。"
   ]
  },
  {
   "cell_type": "code",
   "execution_count": null,
   "id": "d3e086cd",
   "metadata": {},
   "outputs": [],
   "source": [
    "!kaggle competitions download -c titanic --quiet"
   ]
  },
  {
   "cell_type": "markdown",
   "id": "82e74304",
   "metadata": {},
   "source": [
    "ダウンロードの際には`kaggle.json`ファイルを `~/.kaggle/kaggle.json` に配置しておく必要があります。\n",
    "`titanic.zip`ファイルがダウンロードされますのでカレントディレクトリに展開します。"
   ]
  },
  {
   "cell_type": "code",
   "execution_count": null,
   "id": "a231e41c",
   "metadata": {},
   "outputs": [],
   "source": [
    "!unzip titanic.zip"
   ]
  },
  {
   "cell_type": "markdown",
   "id": "33797b80",
   "metadata": {},
   "source": [
    "`train.csv` ファイルに訓練用のデータが保存されていますので `pandas.read_csv` で読み込みます。"
   ]
  },
  {
   "cell_type": "code",
   "execution_count": null,
   "id": "be60e84a",
   "metadata": {},
   "outputs": [],
   "source": [
    "print(\"Hello World!\")"
   ]
  }
 ],
 "metadata": {
  "jupytext": {
   "cell_metadata_filter": "-all",
   "formats": "py:percent,ipynb",
   "main_language": "python"
  }
 },
 "nbformat": 4,
 "nbformat_minor": 5
}
