{
 "cells": [
  {
   "cell_type": "markdown",
   "id": "34ef1fb6",
   "metadata": {},
   "source": [
    "# タイタニック号 災害から学ぶ機械学習\n",
    "\n",
    "## データの取得\n",
    "\n",
    "Titanicのデータを取得します。"
   ]
  },
  {
   "cell_type": "code",
   "execution_count": null,
   "id": "e9145df7",
   "metadata": {},
   "outputs": [],
   "source": [
    "!kaggle competitions download -c titanic --quiet"
   ]
  },
  {
   "cell_type": "markdown",
   "id": "ea69f887",
   "metadata": {},
   "source": [
    "ダウンロードの際には`kaggle.json`ファイルを `~/.kaggle/kaggle.json` に配置しておく必要があります。\n",
    "`titanic.zip`ファイルがダウンロードされますのでカレントディレクトリに展開します。"
   ]
  },
  {
   "cell_type": "code",
   "execution_count": null,
   "id": "121e91ee",
   "metadata": {},
   "outputs": [],
   "source": [
    "!unzip titanic.zip"
   ]
  },
  {
   "cell_type": "markdown",
   "id": "5bb2b2c9",
   "metadata": {},
   "source": [
    "`train.csv` ファイルに訓練用のデータが保存されていますので `pandas.read_csv` で読み込みます。"
   ]
  },
  {
   "cell_type": "code",
   "execution_count": null,
   "id": "e53cadc9",
   "metadata": {},
   "outputs": [],
   "source": [
    "import pandas as pd\n",
    "\n",
    "train = pd.read_csv(\"train.csv\")\n",
    "train.head(3).style.set_table_attributes('style=\"font-size: 10px\"')"
   ]
  },
  {
   "cell_type": "markdown",
   "id": "e181675c",
   "metadata": {},
   "source": [
    "`test.csv` ファイルにテスト用のデータが保存されていますので同様に `pandas.read_csv` で読み込みます。"
   ]
  },
  {
   "cell_type": "code",
   "execution_count": null,
   "id": "3cb69a7f",
   "metadata": {},
   "outputs": [],
   "source": [
    "import pandas as pd\n",
    "\n",
    "test = pd.read_csv(\"test.csv\")\n",
    "test.head(3).style.set_table_attributes('style=\"font-size: 10px\"')"
   ]
  },
  {
   "cell_type": "markdown",
   "id": "57b8d05b",
   "metadata": {},
   "source": [
    "また、 `seaborn` というライブラリを使用してもデータを取得することができます。"
   ]
  },
  {
   "cell_type": "code",
   "execution_count": null,
   "id": "db93829e",
   "metadata": {},
   "outputs": [],
   "source": [
    "# see https://seaborn.pydata.org/examples/logistic_regression.html\n",
    "import seaborn as sns\n",
    "\n",
    "sns.set_theme(style=\"darkgrid\")\n",
    "\n",
    "# Load the example Titanic dataset\n",
    "df = sns.load_dataset(\"titanic\")\n",
    "\n",
    "# Make a custom palette with gendered colors\n",
    "pal = dict(male=\"#6495ED\", female=\"#F08080\")\n",
    "\n",
    "# Show the survival probability as a function of age and sex\n",
    "g = sns.lmplot(\n",
    "    x=\"age\",\n",
    "    y=\"survived\",\n",
    "    col=\"sex\",\n",
    "    hue=\"sex\",\n",
    "    data=df,\n",
    "    palette=pal,\n",
    "    y_jitter=0.02,\n",
    "    logistic=True,\n",
    "    truncate=False,\n",
    ")\n",
    "g.set(xlim=(0, 80), ylim=(-0.05, 1.05))"
   ]
  }
 ],
 "metadata": {
  "jupytext": {
   "cell_metadata_filter": "-all",
   "formats": "py:percent,ipynb",
   "main_language": "python"
  }
 },
 "nbformat": 4,
 "nbformat_minor": 5
}
