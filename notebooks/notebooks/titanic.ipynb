{
 "cells": [
  {
   "cell_type": "markdown",
   "id": "34ef1fb6",
   "metadata": {},
   "source": [
    "# タイタニック号 災害から学ぶ機械学習\n",
    "\n",
    "## データの取得\n",
    "\n",
    "Titanicのデータを取得します。"
   ]
  }
 ],
 "metadata": {
  "jupytext": {
   "cell_metadata_filter": "-all",
   "formats": "py:percent,ipynb",
   "main_language": "python"
  }
 },
 "nbformat": 4,
 "nbformat_minor": 5
}
