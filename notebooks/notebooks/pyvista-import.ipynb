{
 "cells": [
  {
   "cell_type": "markdown",
   "id": "34ef1fb6",
   "metadata": {},
   "source": [
    "# PyVistaの動作確認\n",
    "\n",
    "このノートはPyVistaの動作確認を行うために作成したものです。"
   ]
  },
  {
   "cell_type": "code",
   "execution_count": null,
   "id": "be60e84a",
   "metadata": {},
   "outputs": [],
   "source": [
    "import pyvista\n",
    "\n",
    "pyvista.start_xvfb()\n",
    "\n",
    "# mesh = pv.Sphere()\n",
    "# plotter = pyvista.Plotter()\n",
    "# plotter.add_mesh(mesh)\n",
    "# plotter.show()"
   ]
  }
 ],
 "metadata": {
  "jupytext": {
   "cell_metadata_filter": "-all",
   "formats": "py:percent,ipynb",
   "main_language": "python"
  }
 },
 "nbformat": 4,
 "nbformat_minor": 5
}
