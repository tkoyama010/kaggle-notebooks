{
 "cells": [
  {
   "cell_type": "markdown",
   "id": "ac50318f",
   "metadata": {},
   "source": [
    "# GetFEMによる丸棒のねじり解析\n",
    "\n",
    "\n",
    "半径方向の単位ベクトル $P$ は以下の式であらわされる。\n",
    "\n",
    "$$\n",
    "P＝\\begin{pmatrix}\\cos \\theta &\\sin \\theta \\end{pmatrix}\n",
    "$$\n",
    "\n",
    "ベクトル $P$ を角度 $\\theta$ で微分すると接線方向の単位ベクトルを得ることができる。\n",
    "\n",
    "$$\n",
    "\\frac{dP}{d\\theta }=\\begin{pmatrix}-\\sin \\theta &\\cos \\theta \\end{pmatrix}\n",
    "$$"
   ]
  },
  {
   "cell_type": "code",
   "execution_count": null,
   "id": "afc1654c",
   "metadata": {},
   "outputs": [],
   "source": [
    "import getfem as gf"
   ]
  },
  {
   "cell_type": "markdown",
   "id": "322f3258",
   "metadata": {},
   "source": [
    "## メッシュの作成\n",
    "今回のメッシュはPyVistaを使用して作成します。"
   ]
  },
  {
   "cell_type": "code",
   "execution_count": null,
   "id": "f467e0fb",
   "metadata": {},
   "outputs": [],
   "source": [
    "import pyvista as pv\n",
    "from pyvista.examples import cells as example_cells, plot_cell\n",
    "\n",
    "grid = pv.CylinderStructured(\n",
    "    radius=np.linspace(0.0, 1.0, 2), theta_resolution=4, z_resolution=2\n",
    ")\n",
    "example_cells.plot_cell(grid)"
   ]
  }
 ],
 "metadata": {
  "jupytext": {
   "cell_metadata_filter": "-all",
   "formats": "py:percent,ipynb",
   "main_language": "python"
  }
 },
 "nbformat": 4,
 "nbformat_minor": 5
}
