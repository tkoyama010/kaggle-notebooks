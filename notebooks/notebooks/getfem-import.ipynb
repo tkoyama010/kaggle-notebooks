{
 "cells": [
  {
   "cell_type": "markdown",
   "id": "ac50318f",
   "metadata": {},
   "source": [
    "# GetFEMの動作確認\n",
    "\n",
    "このノートはGetFEMの動作確認を行うために作成したものです。"
   ]
  },
  {
   "cell_type": "code",
   "execution_count": null,
   "id": "afc1654c",
   "metadata": {},
   "outputs": [],
   "source": [
    "import getfem as gf"
   ]
  }
 ],
 "metadata": {
  "jupytext": {
   "cell_metadata_filter": "-all",
   "formats": "py:percent,ipynb",
   "main_language": "python"
  }
 },
 "nbformat": 4,
 "nbformat_minor": 5
}
