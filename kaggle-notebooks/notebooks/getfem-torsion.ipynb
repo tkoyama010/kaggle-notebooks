{
 "cells": [
  {
   "cell_type": "markdown",
   "id": "ac50318f",
   "metadata": {},
   "source": [
    "# GetFEMの動作確認\n",
    "\n",
    "\n",
    "半径方向の単位ベクトル $P$ は以下の式であらわされる。\n",
    "\n",
    "```math\n",
    "P＝\\begin{pmatrix}\\cos \\theta &\\sin \\theta \\end{pmatrix}\n",
    "```\n",
    "\n",
    "ベクトル $P$ を角度 $\\theta$ で微分すると接線方向の単位ベクトルを得ることができる。\n",
    "\n",
    "```math\n",
    "\\frac{dP}{d\\theta }=\\begin{pmatrix}-\\sin \\theta &\\cos \\theta \\end{pmatrix}\n",
    "```\n",
    "\n",
    "このノートはGetFEMの動作確認を行うために作成したものです。"
   ]
  },
  {
   "cell_type": "code",
   "execution_count": null,
   "id": "afc1654c",
   "metadata": {},
   "outputs": [],
   "source": [
    "import getfem as gf"
   ]
  }
 ],
 "metadata": {
  "jupytext": {
   "cell_metadata_filter": "-all",
   "formats": "py:percent,ipynb",
   "main_language": "python"
  }
 },
 "nbformat": 4,
 "nbformat_minor": 5
}
