{
 "cells": [
  {
   "cell_type": "markdown",
   "id": "34ef1fb6",
   "metadata": {},
   "source": [
    "# Jupytextの動作確認\n",
    "\n",
    "このノートはJupytextの動作確認を行うために作成したものです。"
   ]
  },
  {
   "cell_type": "code",
   "execution_count": null,
   "id": "be60e84a",
   "metadata": {},
   "outputs": [],
   "source": [
    "print(\"Hello World!\")"
   ]
  }
 ],
 "metadata": {
  "jupytext": {
   "cell_metadata_filter": "-all",
   "formats": "py:percent,ipynb",
   "main_language": "python"
  }
 },
 "nbformat": 4,
 "nbformat_minor": 5
}
