{
 "cells": [
  {
   "cell_type": "markdown",
   "id": "34ef1fb6",
   "metadata": {},
   "source": [
    "# Titanicのデータのダウンロード\n",
    "\n",
    "Titanicのデータをダウンロードします。"
   ]
  },
  {
   "cell_type": "code",
   "execution_count": null,
   "id": "be60e84a",
   "metadata": {},
   "outputs": [],
   "source": [
    "!kaggle competitions download -c titanic --quiet"
   ]
  },
  {
   "cell_type": "markdown",
   "id": "e3ff4735",
   "metadata": {},
   "source": [
    "ダウンロードの際には`kaggle.json`ファイルを `~/.kaggle/kaggle.json` に配置しておく必要があります。\n",
    "`titanic.zip`ファイルがダウンロードされますのでカレントディレクトリに展開します。"
   ]
  },
  {
   "cell_type": "code",
   "execution_count": null,
   "id": "85b20f7e",
   "metadata": {},
   "outputs": [],
   "source": [
    "!unzip titanic.zip"
   ]
  },
  {
   "cell_type": "markdown",
   "id": "06211c7e",
   "metadata": {},
   "source": [
    "`train.csv` ファイルに訓練用のデータが保存されていますので `polars.read_csv` で読み込みます。"
   ]
  },
  {
   "cell_type": "code",
   "execution_count": 3,
   "id": "c82a1591",
   "metadata": {},
   "outputs": [],
   "source": [
    "import polars as pl\n",
    "train = pl.read_csv(\"train.csv\")\n",
    "train.head(3)"
   ]
  }
 ],
 "metadata": {
  "jupytext": {
   "cell_metadata_filter": "-all",
   "formats": "md:myst,ipynb",
   "main_language": "python"
  }
 },
 "nbformat": 4,
 "nbformat_minor": 5
}
