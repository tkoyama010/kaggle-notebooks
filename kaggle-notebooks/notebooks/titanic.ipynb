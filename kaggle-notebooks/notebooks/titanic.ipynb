{
 "cells": [
  {
   "cell_type": "markdown",
   "id": "34ef1fb6",
   "metadata": {},
   "source": [
    "# タイタニック号 災害から学ぶ機械学習\n",
    "\n",
    "## データの取得\n",
    "\n",
    "Titanicのデータを取得します。"
   ]
  },
  {
   "cell_type": "code",
   "execution_count": null,
   "id": "be60e84a",
   "metadata": {},
   "outputs": [],
   "source": [
    "!kaggle competitions download -c titanic --quiet"
   ]
  },
  {
   "cell_type": "markdown",
   "id": "e3ff4735",
   "metadata": {},
   "source": [
    "ダウンロードの際には`kaggle.json`ファイルを `~/.kaggle/kaggle.json` に配置しておく必要があります。\n",
    "`titanic.zip`ファイルがダウンロードされますのでカレントディレクトリに展開します。"
   ]
  },
  {
   "cell_type": "code",
   "execution_count": null,
   "id": "85b20f7e",
   "metadata": {},
   "outputs": [],
   "source": [
    "!unzip titanic.zip"
   ]
  },
  {
   "cell_type": "markdown",
   "id": "06211c7e",
   "metadata": {},
   "source": [
    "`train.csv` ファイルに訓練用のデータが保存されていますので `polars.read_csv` で読み込みます。"
   ]
  },
  {
   "cell_type": "code",
   "execution_count": 3,
   "id": "c82a1591",
   "metadata": {},
   "outputs": [],
   "source": [
    "import polars as pl\n",
    "train = pl.read_csv(\"train.csv\")\n",
    "train.head(3)"
   ]
  },
  {
   "cell_type": "markdown",
   "id": "3560f8f5",
   "metadata": {},
   "source": [
    "`test.csv` ファイルにテスト用のデータが保存されていますので同様に `polars.read_csv` で読み込みます。"
   ]
  },
  {
   "cell_type": "code",
   "execution_count": null,
   "id": "f241c9c1",
   "metadata": {},
   "outputs": [],
   "source": [
    "import polars as pl\n",
    "test = pl.read_csv(\"test.csv\")\n",
    "test.head(3)"
   ]
  },
  {
   "cell_type": "markdown",
   "id": "4227972f",
   "metadata": {},
   "source": [
    "## データの前処理\n",
    "\n",
    "データを取得できましたので、欠損値などがないか確認を行います。"
   ]
  }
 ],
 "metadata": {
  "jupytext": {
   "cell_metadata_filter": "-all",
   "formats": "md:myst,ipynb",
   "main_language": "python"
  }
 },
 "nbformat": 4,
 "nbformat_minor": 5
}
