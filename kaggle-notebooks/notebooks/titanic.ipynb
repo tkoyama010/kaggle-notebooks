{
 "cells": [
  {
   "cell_type": "markdown",
   "id": "34ef1fb6",
   "metadata": {},
   "source": [
    "# タイタニック号 災害から学ぶ機械学習\n",
    "\n",
    "## データの取得\n",
    "\n",
    "Titanicのデータを取得します。"
   ]
  },
  {
   "cell_type": "code",
   "execution_count": null,
   "id": "be60e84a",
   "metadata": {},
   "outputs": [],
   "source": [
    "!kaggle competitions download -c titanic --quiet"
   ]
  },
  {
   "cell_type": "markdown",
   "id": "e3ff4735",
   "metadata": {},
   "source": [
    "ダウンロードの際には`kaggle.json`ファイルを `~/.kaggle/kaggle.json` に配置しておく必要があります。\n",
    "`titanic.zip`ファイルがダウンロードされますのでカレントディレクトリに展開します。"
   ]
  },
  {
   "cell_type": "code",
   "execution_count": null,
   "id": "85b20f7e",
   "metadata": {},
   "outputs": [],
   "source": [
    "!unzip titanic.zip"
   ]
  },
  {
   "cell_type": "markdown",
   "id": "06211c7e",
   "metadata": {},
   "source": [
    "`train.csv` ファイルに訓練用のデータが保存されていますので `pandas.read_csv` で読み込みます。"
   ]
  },
  {
   "cell_type": "code",
   "execution_count": 3,
   "id": "c82a1591",
   "metadata": {},
   "outputs": [],
   "source": [
    "import pandas as pd\n",
    "\n",
    "train = pd.read_csv(\"train.csv\")\n",
    "train.head(3)"
   ]
  },
  {
   "cell_type": "markdown",
   "id": "721da3cb",
   "metadata": {},
   "source": [
    "`test.csv` ファイルにテスト用のデータが保存されていますので同様に `pandas.read_csv` で読み込みます。"
   ]
  },
  {
   "cell_type": "code",
   "execution_count": null,
   "id": "798bbef6",
   "metadata": {},
   "outputs": [],
   "source": [
    "import pandas as pd\n",
    "\n",
    "test = pd.read_csv(\"test.csv\")\n",
    "test.head(3)"
   ]
  },
  {
   "cell_type": "markdown",
   "id": "411c6461",
   "metadata": {},
   "source": [
    "また、 `seaborn` というライブラリを使用してもデータを取得することができます。"
   ]
  },
  {
   "cell_type": "code",
   "execution_count": null,
   "id": "54ee8a09",
   "metadata": {},
   "outputs": [],
   "source": [
    "# see https://seaborn.pydata.org/examples/logistic_regression.html\n",
    "import seaborn as sns\n",
    "\n",
    "sns.set_theme(style=\"darkgrid\")\n",
    "\n",
    "# Load the example Titanic dataset\n",
    "df = sns.load_dataset(\"titanic\")\n",
    "\n",
    "# Make a custom palette with gendered colors\n",
    "pal = dict(male=\"#6495ED\", female=\"#F08080\")\n",
    "\n",
    "# Show the survival probability as a function of age and sex\n",
    "g = sns.lmplot(\n",
    "    x=\"age\",\n",
    "    y=\"survived\",\n",
    "    col=\"sex\",\n",
    "    hue=\"sex\",\n",
    "    data=df,\n",
    "    palette=pal,\n",
    "    y_jitter=0.02,\n",
    "    logistic=True,\n",
    "    truncate=False,\n",
    ")\n",
    "g.set(xlim=(0, 80), ylim=(-0.05, 1.05))"
   ]
  }
 ],
 "metadata": {
  "jupytext": {
   "cell_metadata_filter": "-all",
   "formats": "py:percent,ipynb",
   "main_language": "python"
  }
 },
 "nbformat": 4,
 "nbformat_minor": 5
}
